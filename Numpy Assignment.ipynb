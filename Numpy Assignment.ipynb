{
 "cells": [
  {
   "cell_type": "markdown",
   "metadata": {},
   "source": [
    "Create a 1D array of numbers from 0 to 9."
   ]
  },
  {
   "cell_type": "code",
   "execution_count": 1,
   "metadata": {},
   "outputs": [
    {
     "data": {
      "text/plain": [
       "array([0, 1, 2, 3, 4, 5, 6, 7, 8, 9])"
      ]
     },
     "execution_count": 1,
     "metadata": {},
     "output_type": "execute_result"
    }
   ],
   "source": [
    "import numpy as np\n",
    "\n",
    "arr = np.arange(10)\n",
    "arr"
   ]
  },
  {
   "cell_type": "markdown",
   "metadata": {},
   "source": [
    "Create a 3×3 numpy array of all True’s"
   ]
  },
  {
   "cell_type": "code",
   "execution_count": 2,
   "metadata": {},
   "outputs": [
    {
     "data": {
      "text/plain": [
       "array([[ True,  True,  True],\n",
       "       [ True,  True,  True],\n",
       "       [ True,  True,  True]])"
      ]
     },
     "execution_count": 2,
     "metadata": {},
     "output_type": "execute_result"
    }
   ],
   "source": [
    "arrT = np.ones((3,3),dtype =bool)\n",
    "arrT"
   ]
  },
  {
   "cell_type": "markdown",
   "metadata": {},
   "source": [
    "Given an array as input, print only odd numbers as output"
   ]
  },
  {
   "cell_type": "code",
   "execution_count": 3,
   "metadata": {},
   "outputs": [
    {
     "name": "stdout",
     "output_type": "stream",
     "text": [
      "[1, 3, 5]\n"
     ]
    }
   ],
   "source": [
    "#Method 1:\n",
    "arr = np.array([1,2,3,4,5,6])\n",
    "lis = arr.tolist()\n",
    "only_odd = [num for num in lis if num % 2 == 1] \n",
    "  \n",
    "print(only_odd) "
   ]
  },
  {
   "cell_type": "code",
   "execution_count": 4,
   "metadata": {},
   "outputs": [
    {
     "name": "stdout",
     "output_type": "stream",
     "text": [
      "1 3 5 "
     ]
    }
   ],
   "source": [
    "#Method2:\n",
    "arr = np.array([1,2,3,4,5,6])\n",
    "for a in arr.tolist():\n",
    "     if a % 2 != 0: \n",
    "            print(a, end = \" \") \n",
    "    "
   ]
  },
  {
   "cell_type": "markdown",
   "metadata": {},
   "source": [
    "Replace all odd numbers in arr with -2"
   ]
  },
  {
   "cell_type": "code",
   "execution_count": 5,
   "metadata": {},
   "outputs": [
    {
     "name": "stdout",
     "output_type": "stream",
     "text": [
      "odd numbers are : [1, 3, 5]\n",
      "new arry elements are: [2 2 2 4 2 6]\n"
     ]
    }
   ],
   "source": [
    "arr = np.array([1,2,3,4,5,6])\n",
    "lis = arr.tolist()\n",
    "only_odd = [num for num in lis if num % 2 == 1] \n",
    "for n,a in enumerate(lis):\n",
    "    if a % 2 == 1:\n",
    "        lis[n] = 2\n",
    "print(\"odd numbers are :\",only_odd)\n",
    "print(\"new arry elements are:\",np.asarray(lis))\n",
    "        "
   ]
  },
  {
   "cell_type": "markdown",
   "metadata": {},
   "source": [
    "How to reshape an array?"
   ]
  },
  {
   "cell_type": "code",
   "execution_count": 6,
   "metadata": {},
   "outputs": [
    {
     "name": "stdout",
     "output_type": "stream",
     "text": [
      "[[ 0  1]\n",
      " [ 2  3]\n",
      " [ 4  5]\n",
      " [ 6  7]\n",
      " [ 8  9]\n",
      " [10 11]\n",
      " [12 13]\n",
      " [14 15]\n",
      " [16 17]]\n",
      "\n",
      "\n",
      "[[[ 0  6 12]\n",
      "  [ 2  8 14]\n",
      "  [ 4 10 16]]\n",
      "\n",
      " [[ 1  7 13]\n",
      "  [ 3  9 15]\n",
      "  [ 5 11 17]]]\n"
     ]
    }
   ],
   "source": [
    "a = np.arange(18).reshape(9,2)\n",
    "print(a)\n",
    "print(\"\\n\")\n",
    "b = a.reshape(3,3,2).swapaxes(0,2)\n",
    "print(b)\n"
   ]
  },
  {
   "cell_type": "markdown",
   "metadata": {},
   "source": [
    "Convert a 1D array to a 2D array with 2 rows"
   ]
  },
  {
   "cell_type": "code",
   "execution_count": 7,
   "metadata": {},
   "outputs": [
    {
     "data": {
      "text/plain": [
       "array([[1, 2, 3],\n",
       "       [4, 5, 6]])"
      ]
     },
     "execution_count": 7,
     "metadata": {},
     "output_type": "execute_result"
    }
   ],
   "source": [
    "a = np.array([1,2,3,4,5,6])\n",
    "b = a.reshape(2,3)\n",
    "b"
   ]
  },
  {
   "cell_type": "markdown",
   "metadata": {},
   "source": [
    "Given an array  a  = [1,2,3,4,5,6,7,8,9] , create  new array b from a such that b includes all odd numbers and 4 multiples. "
   ]
  },
  {
   "cell_type": "code",
   "execution_count": 8,
   "metadata": {},
   "outputs": [
    {
     "data": {
      "text/plain": [
       "[1, 3, 5, 7, 9]"
      ]
     },
     "execution_count": 8,
     "metadata": {},
     "output_type": "execute_result"
    }
   ],
   "source": [
    "#need to work on it as it is no picking 4 multiples\n",
    "a = np.array([1,2,3,4,5,6,7,8,9])\n",
    "lis = [a for a in a.tolist() if a%2 == 1 or n%4 == 0]\n",
    "lis"
   ]
  },
  {
   "cell_type": "markdown",
   "metadata": {},
   "source": [
    "Given array, check if there are any null values and print them out. "
   ]
  },
  {
   "cell_type": "code",
   "execution_count": 9,
   "metadata": {},
   "outputs": [
    {
     "name": "stdout",
     "output_type": "stream",
     "text": [
      "True\n"
     ]
    }
   ],
   "source": [
    "Z = np.random.randint(0,3,(3,10)).astype(float)\n",
    "Z[:,0] = np.nan\n",
    "G = np.isnan(Z)\n",
    "print((G.all(axis=0)).any())"
   ]
  },
  {
   "cell_type": "markdown",
   "metadata": {},
   "source": [
    "How to replace all missing values with 0 in a numpy array"
   ]
  },
  {
   "cell_type": "code",
   "execution_count": 10,
   "metadata": {},
   "outputs": [
    {
     "data": {
      "text/plain": [
       "array([[1., 2., 3.],\n",
       "       [0., 3., 0.]])"
      ]
     },
     "execution_count": 10,
     "metadata": {},
     "output_type": "execute_result"
    }
   ],
   "source": [
    "from numpy import *\n",
    "\n",
    "a = array([[1, 2, 3], [0, 3, NaN]])\n",
    "where_are_NaNs = isnan(a)\n",
    "a[where_are_NaNs] = 0\n",
    "a"
   ]
  },
  {
   "cell_type": "markdown",
   "metadata": {},
   "source": [
    "How to find the count of each unique number in a NumPy array?"
   ]
  },
  {
   "cell_type": "code",
   "execution_count": 11,
   "metadata": {},
   "outputs": [
    {
     "name": "stdout",
     "output_type": "stream",
     "text": [
      "Original Numpy Array :  [11 11 12 13 14 15 16 17 12 13 11 14 18]\n",
      "Unique Values :  [11 12 13 14 15 16 17 18]\n",
      "Unique Values count is :  [3 2 2 2 1 1 1 1]\n"
     ]
    }
   ],
   "source": [
    "arr = np.array([11, 11, 12, 13, 14, 15, 16, 17, 12, 13, 11, 14, 18])\n",
    "print('Original Numpy Array : ' , arr)\n",
    " \n",
    "uniqueValues, uq_val_count = np.unique(arr,return_counts = True)\n",
    " \n",
    "print('Unique Values : ',uniqueValues)\n",
    "print('Unique Values count is : ',uq_val_count)"
   ]
  },
  {
   "cell_type": "markdown",
   "metadata": {},
   "source": [
    "How to convert a numeric to a categorical (text) array?"
   ]
  },
  {
   "cell_type": "code",
   "execution_count": 18,
   "metadata": {},
   "outputs": [
    {
     "name": "stdout",
     "output_type": "stream",
     "text": [
      "<U1\n",
      "['1' '1' '1' '1' '2' '1' '1' '1'] <U1\n"
     ]
    }
   ],
   "source": [
    "a=np.array([\"a\",\"b\"])\n",
    "print(a.dtype)\n",
    "\n",
    "#converting character array to numeric array\n",
    "\n",
    "b=(a.view(np.ubyte)-96).astype('U1')\n",
    "\n",
    "print(b,b.dtype)\n"
   ]
  },
  {
   "cell_type": "markdown",
   "metadata": {},
   "source": [
    " Write a program to print all numbers between 99 and 299 which are either divisible by 5 or 7. Exclude the elements which are divisible by both. "
   ]
  },
  {
   "cell_type": "code",
   "execution_count": 20,
   "metadata": {},
   "outputs": [
    {
     "name": "stdout",
     "output_type": "stream",
     "text": [
      "100,105,110,112,115,119,120,125,126,130,133,135,140,145,147,150,154,155,160,161,165,168,170,175,180,182,185,189,190,195,196,200,203,205,210,215,217,220,224,225,230,231,235,238,240,245,250,252,255,259,260,265,266,270,273,275,280,285,287,290,294,295\n"
     ]
    }
   ],
   "source": [
    "nl=[]\n",
    "for x in range(99, 299):\n",
    "    if (x%5==0)  or (x%7==0):\n",
    "        nl.append(str(x))\n",
    "print (','.join(nl))"
   ]
  },
  {
   "cell_type": "markdown",
   "metadata": {},
   "source": [
    "Write a program to reverse an array and print"
   ]
  },
  {
   "cell_type": "code",
   "execution_count": 25,
   "metadata": {},
   "outputs": [],
   "source": [
    "def reverseList(A, start, end): \n",
    "    if start >= end: \n",
    "        return\n",
    "    A[start], A[end] = A[end], A[start] \n",
    "    reverseList(A, start+1, end-1) \n",
    "    return A\n"
   ]
  },
  {
   "cell_type": "code",
   "execution_count": 26,
   "metadata": {},
   "outputs": [
    {
     "data": {
      "text/plain": [
       "[6, 5, 4, 3, 2, 1]"
      ]
     },
     "execution_count": 26,
     "metadata": {},
     "output_type": "execute_result"
    }
   ],
   "source": [
    "A = [1, 2, 3, 4, 5, 6]\n",
    "reverseList(A, 0, 5) "
   ]
  },
  {
   "cell_type": "code",
   "execution_count": null,
   "metadata": {},
   "outputs": [],
   "source": []
  }
 ],
 "metadata": {
  "kernelspec": {
   "display_name": "Python 3",
   "language": "python",
   "name": "python3"
  },
  "language_info": {
   "codemirror_mode": {
    "name": "ipython",
    "version": 3
   },
   "file_extension": ".py",
   "mimetype": "text/x-python",
   "name": "python",
   "nbconvert_exporter": "python",
   "pygments_lexer": "ipython3",
   "version": "3.7.0"
  }
 },
 "nbformat": 4,
 "nbformat_minor": 2
}
