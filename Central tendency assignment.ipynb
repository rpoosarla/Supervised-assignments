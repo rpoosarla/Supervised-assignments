{
 "cells": [
  {
   "cell_type": "markdown",
   "metadata": {},
   "source": [
    "Find the mean of the following data using hand and compare with numpy.mean()"
   ]
  },
  {
   "cell_type": "code",
   "execution_count": 1,
   "metadata": {},
   "outputs": [
    {
     "data": {
      "text/plain": [
       "7.0"
      ]
     },
     "execution_count": 1,
     "metadata": {},
     "output_type": "execute_result"
    }
   ],
   "source": [
    "import numpy as np\n",
    "a = np.array([9, 7, 11, 13, 2, 4, 5, 5])\n",
    "np.mean(a)"
   ]
  },
  {
   "cell_type": "markdown",
   "metadata": {},
   "source": [
    "Using Hand"
   ]
  },
  {
   "cell_type": "code",
   "execution_count": 2,
   "metadata": {},
   "outputs": [
    {
     "data": {
      "text/plain": [
       "7.0"
      ]
     },
     "execution_count": 2,
     "metadata": {},
     "output_type": "execute_result"
    }
   ],
   "source": [
    "\n",
    "a1_mean = sum(a)/len(a)\n",
    "a1_mean"
   ]
  },
  {
   "cell_type": "code",
   "execution_count": 3,
   "metadata": {},
   "outputs": [
    {
     "data": {
      "text/plain": [
       "8.5"
      ]
     },
     "execution_count": 3,
     "metadata": {},
     "output_type": "execute_result"
    }
   ],
   "source": [
    "b = np.array([ 2.2, 10.2, 14.7, 5.9, 4.9, 11.1, 10.5])\n",
    "np.mean(b)"
   ]
  },
  {
   "cell_type": "code",
   "execution_count": 4,
   "metadata": {},
   "outputs": [
    {
     "data": {
      "text/plain": [
       "8.5"
      ]
     },
     "execution_count": 4,
     "metadata": {},
     "output_type": "execute_result"
    }
   ],
   "source": [
    "\n",
    "a1_mean = sum(b)/len(b)\n",
    "a1_mean"
   ]
  },
  {
   "cell_type": "code",
   "execution_count": 5,
   "metadata": {},
   "outputs": [
    {
     "data": {
      "text/plain": [
       "11.4"
      ]
     },
     "execution_count": 5,
     "metadata": {},
     "output_type": "execute_result"
    }
   ],
   "source": [
    "c= np.array([11/4, 21/2, 51/2, 31/4, 21/2])\n",
    "np.mean(c)"
   ]
  },
  {
   "cell_type": "code",
   "execution_count": 6,
   "metadata": {},
   "outputs": [
    {
     "data": {
      "text/plain": [
       "11.4"
      ]
     },
     "execution_count": 6,
     "metadata": {},
     "output_type": "execute_result"
    }
   ],
   "source": [
    "a1_mean = sum(c)/len(c)\n",
    "a1_mean"
   ]
  },
  {
   "cell_type": "markdown",
   "metadata": {},
   "source": [
    "Find the mean of first 10 Fibonacci numbers (Use a for loop to create 10 Fibonacci series)"
   ]
  },
  {
   "cell_type": "code",
   "execution_count": 7,
   "metadata": {},
   "outputs": [
    {
     "name": "stdout",
     "output_type": "stream",
     "text": [
      "1 1 2 3 5 8 13 21 34 55  \n",
      " sum of 10 fibonacci numbers is: 143\n"
     ]
    }
   ],
   "source": [
    "def printFibonacciNumbers(n): \n",
    "      \n",
    "    f1 = 0\n",
    "    f2 = 1\n",
    "    a=[]\n",
    "    if (n < 1): \n",
    "        return\n",
    "    for x in range(0, n): \n",
    "        print(f2, end = \" \") \n",
    "        a.append(f2)\n",
    "        next = f1 + f2 \n",
    "        f1 = f2 \n",
    "        f2 = next\n",
    "    print(\" \", end = \"\\n \")\n",
    "    print(\"sum of 10 fibonacci numbers is:\",sum(a))  \n",
    "# Driven code \n",
    "printFibonacciNumbers(10) "
   ]
  },
  {
   "cell_type": "markdown",
   "metadata": {},
   "source": [
    "Find the mean and median of first 5 prime numbers."
   ]
  },
  {
   "cell_type": "code",
   "execution_count": 8,
   "metadata": {},
   "outputs": [
    {
     "name": "stdout",
     "output_type": "stream",
     "text": [
      "first 5 prime numbers: [1, 3, 5, 7, 9, 11, 13, 15, 17, 19]  \n",
      "mean of first 5 prime numbers is : 10.0\n",
      "median of first 5 prime numbers is : 10.0\n"
     ]
    }
   ],
   "source": [
    "def printprimenumbers(n):\n",
    "    a = []\n",
    "    for i in range(n):\n",
    "        if i%2 != 0:\n",
    "            a.append(i)\n",
    "    if len(a) > 5:\n",
    "        print(\"first 5 prime numbers:\",a,end = \" \")\n",
    "        print(\" \",end =\"\\n\")\n",
    "        print(\"mean of first 5 prime numbers is :\", np.mean(a))\n",
    "        print(\"median of first 5 prime numbers is :\", np.median(a))\n",
    "    else:\n",
    "        print(\"please increase n number\")\n",
    "        \n",
    "    \n",
    "printprimenumbers(20)       "
   ]
  },
  {
   "cell_type": "markdown",
   "metadata": {},
   "source": [
    "The mean of 8, 11, 6, 14, x and 13 is 66. Find the value of the observation x."
   ]
  },
  {
   "cell_type": "code",
   "execution_count": 9,
   "metadata": {},
   "outputs": [
    {
     "name": "stdout",
     "output_type": "stream",
     "text": [
      "Value of x is: 14\n"
     ]
    }
   ],
   "source": [
    "a= [8, 11, 6, 14,13 ]\n",
    "#a+x = 66\n",
    "x =66-sum(a)\n",
    "print(\"Value of x is:\",x)"
   ]
  },
  {
   "cell_type": "markdown",
   "metadata": {},
   "source": [
    "The mean of 6, 8, x + 2, 10, 2x - 1, and 2 is 9. Find the value of x and also the value of the observation in the data."
   ]
  },
  {
   "cell_type": "code",
   "execution_count": 10,
   "metadata": {},
   "outputs": [
    {
     "data": {
      "image/png": "[encoded data removed]",
      "text/plain": [
       "<IPython.core.display.Image object>"
      ]
     },
     "execution_count": 10,
     "metadata": {},
     "output_type": "execute_result"
    }
   ],
   "source": [
    "from IPython.display import Image\n",
    "Image(filename=\"jupy.PNG\")"
   ]
  },
  {
   "cell_type": "markdown",
   "metadata": {},
   "source": [
    "Find the mean of the following distribution."
   ]
  },
  {
   "cell_type": "code",
   "execution_count": 12,
   "metadata": {},
   "outputs": [
    {
     "data": {
      "image/png": "[encoded data removed]",
      "text/plain": [
       "<IPython.core.display.Image object>"
      ]
     },
     "execution_count": 12,
     "metadata": {},
     "output_type": "execute_result"
    }
   ],
   "source": [
    "  #(a) The age of 20 boys in a locality is given below.\n",
    "from IPython.display import Image\n",
    "Image(filename=\"jupy1.PNG\")"
   ]
  },
  {
   "cell_type": "code",
   "execution_count": 13,
   "metadata": {},
   "outputs": [
    {
     "data": {
      "image/png": "[encoded data removed]",
      "text/plain": [
       "<IPython.core.display.Image object>"
      ]
     },
     "execution_count": 13,
     "metadata": {},
     "output_type": "execute_result"
    }
   ],
   "source": [
    "#Marks obtained by 40 students in an exam are given below.\n",
    "from IPython.display import Image\n",
    "Image(filename=\"jupy2.PNG\")"
   ]
  },
  {
   "cell_type": "markdown",
   "metadata": {},
   "source": [
    "Find the mode of the following data."
   ]
  },
  {
   "cell_type": "code",
   "execution_count": 19,
   "metadata": {},
   "outputs": [
    {
     "data": {
      "text/plain": [
       "8.5"
      ]
     },
     "execution_count": 19,
     "metadata": {},
     "output_type": "execute_result"
    }
   ],
   "source": [
    "m = list([12, 8, 4, 8, 1, 8, 9, 11, 9, 10, 12, 8])\n",
    "np.median(m)"
   ]
  },
  {
   "cell_type": "code",
   "execution_count": 21,
   "metadata": {},
   "outputs": [
    {
     "data": {
      "text/plain": [
       "18.0"
      ]
     },
     "execution_count": 21,
     "metadata": {},
     "output_type": "execute_result"
    }
   ],
   "source": [
    "m1=[15, 22, 17, 19, 22, 17, 29, 24, 17, 15]\n",
    "np.median(m1)"
   ]
  },
  {
   "cell_type": "code",
   "execution_count": 22,
   "metadata": {},
   "outputs": [
    {
     "data": {
      "text/plain": [
       "2.5"
      ]
     },
     "execution_count": 22,
     "metadata": {},
     "output_type": "execute_result"
    }
   ],
   "source": [
    "m2 = [ 0, 3, 2, 1, 3, 5, 4, 3, 42, 1, 2, 0]\n",
    "np.median(m2)"
   ]
  },
  {
   "cell_type": "code",
   "execution_count": 23,
   "metadata": {},
   "outputs": [
    {
     "data": {
      "text/plain": [
       "4.5"
      ]
     },
     "execution_count": 23,
     "metadata": {},
     "output_type": "execute_result"
    }
   ],
   "source": [
    "m3 = [1, 7, 2, 4, 5, 9, 8, 3]\n",
    "np.median(m3)"
   ]
  },
  {
   "cell_type": "markdown",
   "metadata": {},
   "source": [
    "The following observations are arranged in ascending order. The median of the data is 25 find the value of x.\n",
    "   17, x, 24, x + 7, 35, 36, 46"
   ]
  },
  {
   "cell_type": "code",
   "execution_count": 26,
   "metadata": {},
   "outputs": [
    {
     "data": {
      "text/plain": [
       "18"
      ]
     },
     "execution_count": 26,
     "metadata": {},
     "output_type": "execute_result"
    }
   ],
   "source": [
    "#from the above it is clear that \n",
    "X = 25-7\n",
    "X\n"
   ]
  },
  {
   "cell_type": "code",
   "execution_count": 28,
   "metadata": {},
   "outputs": [
    {
     "data": {
      "text/plain": [
       "'even though if numbers are not arranged in ascending order median is middle most value and it is same value.'"
      ]
     },
     "execution_count": 28,
     "metadata": {},
     "output_type": "execute_result"
    }
   ],
   "source": [
    "#In the above problem, how would you approach the problem if the numbers are not in ascending order ? What are possible values of X then ?\n",
    "\n",
    "'''even though if numbers are not arranged in ascending order median is middle most value and it is same value.'''"
   ]
  },
  {
   "cell_type": "code",
   "execution_count": 31,
   "metadata": {},
   "outputs": [
    {
     "name": "stdout",
     "output_type": "stream",
     "text": [
      "answer is:D\n"
     ]
    }
   ],
   "source": [
    "'''In which of these situations would you use the mode to measure the central tendency of the data\n",
    "  A. Justin records the temperature at noon every day for two weeks and wants to know the temperature of a 'typical' day.\n",
    "\n",
    "  B. Would you use the mean in all of these situations?\n",
    "\n",
    "  C. Juliana measures the height of all the girls on her soccer team and wants to know the typical height of a soccer player.\n",
    "\n",
    "  D. Sam asks the students in her class to identify their favorite colors and wants to know which color is the most common.'''\n",
    "\n",
    "print(\"answer is:D\")"
   ]
  },
  {
   "cell_type": "code",
   "execution_count": null,
   "metadata": {},
   "outputs": [],
   "source": []
  }
 ],
 "metadata": {
  "kernelspec": {
   "display_name": "Python 3",
   "language": "python",
   "name": "python3"
  },
  "language_info": {
   "codemirror_mode": {
    "name": "ipython",
    "version": 3
   },
   "file_extension": ".py",
   "mimetype": "text/x-python",
   "name": "python",
   "nbconvert_exporter": "python",
   "pygments_lexer": "ipython3",
   "version": "3.7.0"
  }
 },
 "nbformat": 4,
 "nbformat_minor": 2
}
