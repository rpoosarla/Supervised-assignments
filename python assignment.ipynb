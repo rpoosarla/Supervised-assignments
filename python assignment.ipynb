{
 "cells": [
  {
   "cell_type": "markdown",
   "metadata": {},
   "source": [
    "# Consider the above text as a string, figure out the average length of the string."
   ]
  },
  {
   "cell_type": "code",
   "execution_count": 1,
   "metadata": {},
   "outputs": [],
   "source": [
    "a=\"I am very keen in building up my career in Data Science, but not sure from where to start. If I search the web it throws me thousands of articles, few are relevant others make me confused, again I come around to the same page. Supervised has provided me a good platform to remove all such qualms which were wrangling in my mind\""
   ]
  },
  {
   "cell_type": "markdown",
   "metadata": {},
   "source": [
    "#Calculating total words in string"
   ]
  },
  {
   "cell_type": "code",
   "execution_count": 2,
   "metadata": {},
   "outputs": [
    {
     "name": "stdout",
     "output_type": "stream",
     "text": [
      "63\n"
     ]
    }
   ],
   "source": [
    "sents = a.split(' ')\n",
    "print(len(sents))"
   ]
  },
  {
   "cell_type": "markdown",
   "metadata": {},
   "source": [
    "count each word length and sum all words length"
   ]
  },
  {
   "cell_type": "code",
   "execution_count": 3,
   "metadata": {},
   "outputs": [
    {
     "name": "stdout",
     "output_type": "stream",
     "text": [
      "63\n"
     ]
    }
   ],
   "source": [
    "tot_len = sum(len(i.split()) for i in sents) \n",
    "print(tot_len)"
   ]
  },
  {
   "cell_type": "markdown",
   "metadata": {},
   "source": [
    "Finding average length by dividing with string length"
   ]
  },
  {
   "cell_type": "code",
   "execution_count": 4,
   "metadata": {},
   "outputs": [
    {
     "name": "stdout",
     "output_type": "stream",
     "text": [
      "1.0\n"
     ]
    }
   ],
   "source": [
    "avg_len = tot_len/ len(sents)\n",
    "print(avg_len)"
   ]
  },
  {
   "cell_type": "markdown",
   "metadata": {},
   "source": [
    "# converting string to lower case"
   ]
  },
  {
   "cell_type": "code",
   "execution_count": 5,
   "metadata": {},
   "outputs": [
    {
     "name": "stdout",
     "output_type": "stream",
     "text": [
      "i am very keen in building up my career in data science, but not sure from where to start. if i search the web it throws me thousands of articles, few are relevant others make me confused, again i come around to the same page. supervised has provided me a good platform to remove all such qualms which were wrangling in my mind\n"
     ]
    }
   ],
   "source": [
    "b = a.lower()\n",
    "print(b)"
   ]
  },
  {
   "cell_type": "markdown",
   "metadata": {},
   "source": [
    "# Try to get the clean text removing the punctuation from the string"
   ]
  },
  {
   "cell_type": "code",
   "execution_count": 6,
   "metadata": {},
   "outputs": [],
   "source": [
    "spec_chars = [\"!\",\"@\",\"#\",\"$\",\"%\",\"^\",\",\",\"*\",\".\",\",\",]\n",
    "c = \"\".join(i for i in b if  i not in spec_chars)"
   ]
  },
  {
   "cell_type": "code",
   "execution_count": 7,
   "metadata": {},
   "outputs": [
    {
     "name": "stdout",
     "output_type": "stream",
     "text": [
      "i am very keen in building up my career in data science but not sure from where to start if i search the web it throws me thousands of articles few are relevant others make me confused again i come around to the same page supervised has provided me a good platform to remove all such qualms which were wrangling in my mind\n"
     ]
    }
   ],
   "source": [
    "print(c)"
   ]
  },
  {
   "cell_type": "code",
   "execution_count": 8,
   "metadata": {},
   "outputs": [
    {
     "name": "stdout",
     "output_type": "stream",
     "text": [
      "I am very keen in building up my career in Data Science but not sure from where to start. If I search the web it throws me thousands of articles few are relevant others make me confused again I come around to the same page. Supervised has provided me a good platform to remove all such qualms which were wrangling in my mind\n"
     ]
    }
   ],
   "source": [
    "for i in spec_chars:\n",
    "    d = a.replace(i,\"\")\n",
    "print(d)\n"
   ]
  },
  {
   "cell_type": "markdown",
   "metadata": {},
   "source": [
    "# Extract word \"Data Science\" from the string."
   ]
  },
  {
   "cell_type": "code",
   "execution_count": 9,
   "metadata": {},
   "outputs": [
    {
     "data": {
      "text/plain": [
       "['data', 'science']"
      ]
     },
     "execution_count": 9,
     "metadata": {},
     "output_type": "execute_result"
    }
   ],
   "source": [
    "wrds = [\"data\",\"science\"]\n",
    "e = c.split()\n",
    "[i for i in e if i in wrds]"
   ]
  },
  {
   "cell_type": "code",
   "execution_count": 10,
   "metadata": {},
   "outputs": [
    {
     "data": {
      "text/plain": [
       "['data science']"
      ]
     },
     "execution_count": 10,
     "metadata": {},
     "output_type": "execute_result"
    }
   ],
   "source": [
    "import re\n",
    "e = re.findall(r'data science',c)\n",
    "e\n"
   ]
  },
  {
   "cell_type": "markdown",
   "metadata": {},
   "source": [
    "Find the frequency of words used in the string"
   ]
  },
  {
   "cell_type": "code",
   "execution_count": 19,
   "metadata": {},
   "outputs": [
    {
     "name": "stdout",
     "output_type": "stream",
     "text": [
      "no of times data occur is : 1\n",
      "no of times it occur is : 1\n",
      "no of times my occur is : 2\n",
      "no of times throws occur is : 1\n",
      "no of times search occur is : 1\n",
      "no of times the occur is : 2\n",
      "no of times provided occur is : 1\n",
      "no of times few occur is : 1\n",
      "no of times make occur is : 1\n",
      "no of times up occur is : 1\n",
      "no of times a occur is : 1\n",
      "no of times me occur is : 3\n",
      "no of times remove occur is : 1\n",
      "no of times qualms occur is : 1\n",
      "no of times building occur is : 1\n",
      "no of times but occur is : 1\n",
      "no of times am occur is : 1\n",
      "no of times of occur is : 1\n",
      "no of times wrangling occur is : 1\n",
      "no of times platform occur is : 1\n",
      "no of times which occur is : 1\n",
      "no of times where occur is : 1\n",
      "no of times supervised occur is : 1\n",
      "no of times web occur is : 1\n",
      "no of times i occur is : 3\n",
      "no of times career occur is : 1\n",
      "no of times relevant occur is : 1\n",
      "no of times good occur is : 1\n",
      "no of times were occur is : 1\n",
      "no of times very occur is : 1\n",
      "no of times are occur is : 1\n",
      "no of times confused occur is : 1\n",
      "no of times same occur is : 1\n",
      "no of times thousands occur is : 1\n",
      "no of times start occur is : 1\n",
      "no of times such occur is : 1\n",
      "no of times in occur is : 3\n",
      "no of times keen occur is : 1\n",
      "no of times page occur is : 1\n",
      "no of times if occur is : 1\n",
      "no of times science occur is : 1\n",
      "no of times around occur is : 1\n",
      "no of times others occur is : 1\n",
      "no of times has occur is : 1\n",
      "no of times all occur is : 1\n",
      "no of times come occur is : 1\n",
      "no of times from occur is : 1\n",
      "no of times sure occur is : 1\n",
      "no of times mind occur is : 1\n",
      "no of times again occur is : 1\n",
      "no of times articles occur is : 1\n",
      "no of times to occur is : 3\n",
      "no of times not occur is : 1\n"
     ]
    }
   ],
   "source": [
    "def freq(list):\n",
    "    str_list = list.split()\n",
    "    uq_wrds = set(str_list)\n",
    "    for i in uq_wrds:\n",
    "        print(\"no of times\",i,\"occur is :\",str_list.count(i))\n",
    "freq(c)"
   ]
  },
  {
   "cell_type": "markdown",
   "metadata": {},
   "source": [
    "Fetch the duplicate pairs used in the string"
   ]
  },
  {
   "cell_type": "code",
   "execution_count": 21,
   "metadata": {},
   "outputs": [
    {
     "data": {
      "text/plain": [
       "['i',\n",
       " 'in',\n",
       " 'my',\n",
       " 'in',\n",
       " 'to',\n",
       " 'i',\n",
       " 'the',\n",
       " 'me',\n",
       " 'me',\n",
       " 'i',\n",
       " 'to',\n",
       " 'the',\n",
       " 'me',\n",
       " 'to',\n",
       " 'in',\n",
       " 'my']"
      ]
     },
     "execution_count": 21,
     "metadata": {},
     "output_type": "execute_result"
    }
   ],
   "source": [
    "k= [i for i in c.split() if c.split().count(i) >1]\n",
    "k"
   ]
  },
  {
   "cell_type": "markdown",
   "metadata": {},
   "source": [
    "Can you change the word \"Supervised\" to \"Unsupervised\" in the string"
   ]
  },
  {
   "cell_type": "code",
   "execution_count": 22,
   "metadata": {},
   "outputs": [
    {
     "data": {
      "text/plain": [
       "'I am very keen in building up my career in Data Science, but not sure from where to start. If I search the web it throws me thousands of articles, few are relevant others make me confused, again I come around to the same page. Unsupervise has provided me a good platform to remove all such qualms which were wrangling in my mind'"
      ]
     },
     "execution_count": 22,
     "metadata": {},
     "output_type": "execute_result"
    }
   ],
   "source": [
    "e = a.replace(\"Supervised\",\"Unsupervise\")\n",
    "e"
   ]
  },
  {
   "cell_type": "markdown",
   "metadata": {},
   "source": [
    "Splitting of the string with a dot operator"
   ]
  },
  {
   "cell_type": "code",
   "execution_count": 25,
   "metadata": {},
   "outputs": [
    {
     "data": {
      "text/plain": [
       "['I am very keen in building up my career in Data Science, but not sure from where to start',\n",
       " ' If I search the web it throws me thousands of articles, few are relevant others make me confused, again I come around to the same page',\n",
       " ' Supervised has provided me a good platform to remove all such qualms which were wrangling in my mind']"
      ]
     },
     "execution_count": 25,
     "metadata": {},
     "output_type": "execute_result"
    }
   ],
   "source": [
    "f = a.split(\".\")\n",
    "f"
   ]
  },
  {
   "cell_type": "markdown",
   "metadata": {},
   "source": [
    "Find the words from the string which ends with \"e\""
   ]
  },
  {
   "cell_type": "code",
   "execution_count": 30,
   "metadata": {},
   "outputs": [
    {
     "name": "stdout",
     "output_type": "stream",
     "text": [
      "35\n"
     ]
    }
   ],
   "source": [
    "s = [i for i in c if i.endswith('e')]\n",
    "print(len(s))"
   ]
  },
  {
   "cell_type": "markdown",
   "metadata": {},
   "source": [
    "Figure out number of a's used in the string."
   ]
  },
  {
   "cell_type": "code",
   "execution_count": 31,
   "metadata": {},
   "outputs": [
    {
     "name": "stdout",
     "output_type": "stream",
     "text": [
      "22\n"
     ]
    }
   ],
   "source": [
    "print(a.count('a'))"
   ]
  },
  {
   "cell_type": "markdown",
   "metadata": {},
   "source": [
    "# Creating a dictionary"
   ]
  },
  {
   "cell_type": "code",
   "execution_count": 32,
   "metadata": {},
   "outputs": [
    {
     "data": {
      "text/plain": [
       "{'apple': 0.25, 'sugar': 0.5, 'rice': 2.5, 'Milk': 2.5, 'egg': 1}"
      ]
     },
     "execution_count": 32,
     "metadata": {},
     "output_type": "execute_result"
    }
   ],
   "source": [
    "dc = {\"apple\":.250,\n",
    "     \"sugar\":.500,\n",
    "     \"rice\":2.5,\n",
    "     \"Milk\":2.5,\n",
    "     \"egg\":1}\n",
    "dc"
   ]
  },
  {
   "cell_type": "markdown",
   "metadata": {},
   "source": [
    "# modifying dict"
   ]
  },
  {
   "cell_type": "code",
   "execution_count": 35,
   "metadata": {},
   "outputs": [
    {
     "data": {
      "text/plain": [
       "{'apple': 0.25, 'sugar': 0.5, 'rice': 1, 'Milk': 2.5, 'egg': 1, 'atta': 5}"
      ]
     },
     "execution_count": 35,
     "metadata": {},
     "output_type": "execute_result"
    }
   ],
   "source": [
    "dc.update({\"atta\":5,\"rice\":1})\n",
    "dc"
   ]
  },
  {
   "cell_type": "markdown",
   "metadata": {},
   "source": [
    "# Iterating Dict"
   ]
  },
  {
   "cell_type": "code",
   "execution_count": 36,
   "metadata": {},
   "outputs": [
    {
     "name": "stdout",
     "output_type": "stream",
     "text": [
      "0.25\n",
      "0.5\n",
      "1\n",
      "2.5\n",
      "1\n",
      "5\n"
     ]
    }
   ],
   "source": [
    "for i in dc.values():\n",
    "    print(i)"
   ]
  },
  {
   "cell_type": "code",
   "execution_count": 37,
   "metadata": {},
   "outputs": [
    {
     "name": "stdout",
     "output_type": "stream",
     "text": [
      "('apple', 0.25)\n",
      "('sugar', 0.5)\n",
      "('rice', 1)\n",
      "('Milk', 2.5)\n",
      "('egg', 1)\n",
      "('atta', 5)\n"
     ]
    }
   ],
   "source": [
    "for i in dc.items():\n",
    "    print(i)"
   ]
  },
  {
   "cell_type": "markdown",
   "metadata": {},
   "source": [
    "# Billing Question on dictionary"
   ]
  },
  {
   "cell_type": "code",
   "execution_count": 38,
   "metadata": {},
   "outputs": [],
   "source": [
    "dc_p = {\"apple\":220,\n",
    "       \"sugar\":43,\n",
    "       \"rice\":45,\n",
    "       \"Milk\":30,\n",
    "       \"egg\":60}"
   ]
  },
  {
   "cell_type": "code",
   "execution_count": 42,
   "metadata": {},
   "outputs": [
    {
     "name": "stdout",
     "output_type": "stream",
     "text": [
      "apple 55.0\n",
      "sugar 21.5\n",
      "rice 45\n",
      "Milk 75.0\n",
      "egg 60\n",
      "There are some items added to kart which have no values in price lis\n",
      "Total Billable items value is 256.5\n"
     ]
    }
   ],
   "source": [
    "def bill_gen(df1,df2):\n",
    "    try:\n",
    "        tot_c = []\n",
    "        for items in df1.keys():\n",
    "            try:\n",
    "                if items not in dc.keys():\n",
    "                    print(\"stock is not there in menu items\")\n",
    "                else:\n",
    "                    cost = df1[items]*df2[items]\n",
    "                    print(items,cost)\n",
    "                tot_c.append(cost)\n",
    "            except KeyError:\n",
    "                print(\"There are some items added to kart which have no values in price lis\")\n",
    "                print(\"Total Billable items value is\",sum(tot_c))\n",
    "    except:\n",
    "        print(\"there are items added to kart which have no values in price list\")\n",
    "bill_gen(dc,dc_p)                    "
   ]
  },
  {
   "cell_type": "markdown",
   "metadata": {},
   "source": [
    "# Questions on List"
   ]
  },
  {
   "cell_type": "code",
   "execution_count": 3,
   "metadata": {},
   "outputs": [],
   "source": [
    "AI_Companies = [\"Amazon\",\"Facebook\",\"HiSillicon\",\"Google\",\"Apple\",\"Microsoft\",\"SenseTime\"]"
   ]
  },
  {
   "cell_type": "markdown",
   "metadata": {},
   "source": [
    "Sort the list in ascending order"
   ]
  },
  {
   "cell_type": "code",
   "execution_count": 5,
   "metadata": {},
   "outputs": [
    {
     "data": {
      "text/plain": [
       "['SenseTime',\n",
       " 'Microsoft',\n",
       " 'HiSillicon',\n",
       " 'Google',\n",
       " 'Facebook',\n",
       " 'Apple',\n",
       " 'Amazon']"
      ]
     },
     "execution_count": 5,
     "metadata": {},
     "output_type": "execute_result"
    }
   ],
   "source": [
    "sorted(AI_Companies,reverse = True)"
   ]
  },
  {
   "cell_type": "code",
   "execution_count": 6,
   "metadata": {},
   "outputs": [],
   "source": [
    "AI_Companies.sort(reverse=False)"
   ]
  },
  {
   "cell_type": "code",
   "execution_count": 13,
   "metadata": {},
   "outputs": [
    {
     "data": {
      "text/plain": [
       "['Amazon',\n",
       " 'Apple',\n",
       " 'Facebook',\n",
       " 'Google',\n",
       " 'HiSillicon',\n",
       " 'Microsoft',\n",
       " 'SenseTime',\n",
       " 'Nvidia',\n",
       " 'OpenAI',\n",
       " 'Qualcomm']"
      ]
     },
     "execution_count": 13,
     "metadata": {},
     "output_type": "execute_result"
    }
   ],
   "source": [
    "AI_Companies"
   ]
  },
  {
   "cell_type": "markdown",
   "metadata": {},
   "source": [
    "Add multiple companies at once "
   ]
  },
  {
   "cell_type": "code",
   "execution_count": 14,
   "metadata": {},
   "outputs": [
    {
     "name": "stdout",
     "output_type": "stream",
     "text": [
      "['Amazon', 'Apple', 'Facebook', 'Google', 'HiSillicon', 'Microsoft', 'SenseTime', 'Nvidia', 'OpenAI', 'Qualcomm', 'Nvidia', 'OpenAI', 'Qualcomm', 'Reliance']\n"
     ]
    }
   ],
   "source": [
    "AI_Companies_ext = ['Nvidia', 'OpenAI' , 'Qualcomm','Reliance' ]\n",
    "for i in range(len(AI_Companies_ext)):\n",
    "    AI_Companies.append(AI_Companies_ext[i])\n",
    "print(AI_Companies)\n",
    "    "
   ]
  },
  {
   "cell_type": "markdown",
   "metadata": {},
   "source": [
    "Lower the list using List comprehension"
   ]
  },
  {
   "cell_type": "code",
   "execution_count": 15,
   "metadata": {},
   "outputs": [
    {
     "data": {
      "text/plain": [
       "['amazon',\n",
       " 'apple',\n",
       " 'facebook',\n",
       " 'google',\n",
       " 'hisillicon',\n",
       " 'microsoft',\n",
       " 'sensetime',\n",
       " 'nvidia',\n",
       " 'openai',\n",
       " 'qualcomm',\n",
       " 'nvidia',\n",
       " 'openai',\n",
       " 'qualcomm',\n",
       " 'reliance']"
      ]
     },
     "execution_count": 15,
     "metadata": {},
     "output_type": "execute_result"
    }
   ],
   "source": [
    "[i.lower() for i in AI_Companies]"
   ]
  },
  {
   "cell_type": "markdown",
   "metadata": {},
   "source": [
    "Elimiate 'Reliance' from the list"
   ]
  },
  {
   "cell_type": "code",
   "execution_count": 16,
   "metadata": {},
   "outputs": [
    {
     "data": {
      "text/plain": [
       "['Amazon',\n",
       " 'Apple',\n",
       " 'Facebook',\n",
       " 'Google',\n",
       " 'HiSillicon',\n",
       " 'Microsoft',\n",
       " 'SenseTime',\n",
       " 'Nvidia',\n",
       " 'OpenAI',\n",
       " 'Qualcomm',\n",
       " 'Nvidia',\n",
       " 'OpenAI',\n",
       " 'Qualcomm']"
      ]
     },
     "execution_count": 16,
     "metadata": {},
     "output_type": "execute_result"
    }
   ],
   "source": [
    "#mutiple ways to do this\n",
    "#1. use pop()\n",
    "#AI_Companies.pop()\n",
    "#2. use list comprehension\n",
    "[i for i in AI_Companies if i not in ['Reliance']]"
   ]
  },
  {
   "cell_type": "markdown",
   "metadata": {},
   "source": [
    "Extract 'Facebook', 'Google' and 'Microsoft' using a single command"
   ]
  },
  {
   "cell_type": "code",
   "execution_count": 18,
   "metadata": {},
   "outputs": [
    {
     "data": {
      "text/plain": [
       "['Facebook', 'Google', 'Microsoft']"
      ]
     },
     "execution_count": 18,
     "metadata": {},
     "output_type": "execute_result"
    }
   ],
   "source": [
    "list = ['Facebook', 'Google', 'Microsoft']\n",
    "[i for i in AI_Companies if i in list]"
   ]
  },
  {
   "cell_type": "markdown",
   "metadata": {},
   "source": [
    "# Questions on Tuple"
   ]
  },
  {
   "cell_type": "markdown",
   "metadata": {},
   "source": [
    "Consider the above standard price problem statement and place the prices in the form of the tuple."
   ]
  },
  {
   "cell_type": "code",
   "execution_count": 20,
   "metadata": {},
   "outputs": [],
   "source": [
    "tp1 = (220,43,45,30,60)"
   ]
  },
  {
   "cell_type": "code",
   "execution_count": 21,
   "metadata": {},
   "outputs": [
    {
     "name": "stdout",
     "output_type": "stream",
     "text": [
      "Min value is 30\n",
      "max value is 220\n"
     ]
    }
   ],
   "source": [
    "print(\"Min value is\",min(tp1))\n",
    "print(\"max value is\",max(tp1))"
   ]
  },
  {
   "cell_type": "markdown",
   "metadata": {},
   "source": [
    "Also, convert the above \"AI_companies\" list to a tuple"
   ]
  },
  {
   "cell_type": "code",
   "execution_count": 23,
   "metadata": {},
   "outputs": [
    {
     "name": "stdout",
     "output_type": "stream",
     "text": [
      "<class 'tuple'>\n",
      "<class 'list'>\n"
     ]
    }
   ],
   "source": [
    "AI_TP = tuple(AI_Companies)\n",
    "print(type(AI_TP))\n",
    "print(type(AI_Companies))"
   ]
  },
  {
   "cell_type": "markdown",
   "metadata": {},
   "source": [
    "Combine two above tuples to a single tuple."
   ]
  },
  {
   "cell_type": "code",
   "execution_count": 24,
   "metadata": {},
   "outputs": [],
   "source": [
    "new_tp = tp1+AI_TP"
   ]
  },
  {
   "cell_type": "markdown",
   "metadata": {},
   "source": [
    "Compare the length of two tuples."
   ]
  },
  {
   "cell_type": "code",
   "execution_count": 25,
   "metadata": {},
   "outputs": [
    {
     "name": "stdout",
     "output_type": "stream",
     "text": [
      "5\n",
      "14\n",
      "19\n"
     ]
    }
   ],
   "source": [
    "print(len(tp1))\n",
    "print(len(AI_TP))\n",
    "print(len(new_tp))"
   ]
  },
  {
   "cell_type": "code",
   "execution_count": null,
   "metadata": {},
   "outputs": [],
   "source": []
  }
 ],
 "metadata": {
  "kernelspec": {
   "display_name": "Python 3",
   "language": "python",
   "name": "python3"
  },
  "language_info": {
   "codemirror_mode": {
    "name": "ipython",
    "version": 3
   },
   "file_extension": ".py",
   "mimetype": "text/x-python",
   "name": "python",
   "nbconvert_exporter": "python",
   "pygments_lexer": "ipython3",
   "version": "3.7.0"
  }
 },
 "nbformat": 4,
 "nbformat_minor": 2
}
